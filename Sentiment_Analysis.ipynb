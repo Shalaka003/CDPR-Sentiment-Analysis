{
 "cells": [
  {
   "cell_type": "code",
   "execution_count": 1,
   "metadata": {},
   "outputs": [],
   "source": [
    "import snscrape.modules.twitter as sntwitter\n",
    "import pandas as pd"
   ]
  },
  {
   "cell_type": "code",
   "execution_count": 9,
   "metadata": {},
   "outputs": [],
   "source": [
    "# Setting variables to be used below\n",
    "maxTweets = 500\n",
    "\n",
    "# Creating list to append tweet data to\n",
    "tweets_list2 = []\n",
    "\n",
    "# Using TwitterSearchScraper to scrape data and append tweets to list\n",
    "                                                                #year - month - day\n",
    "for i,tweet in enumerate(sntwitter.TwitterSearchScraper('(UPI OR Digital payments OR Digital India)' + 'since:2017-02-25 until:2017-06-30').get_items()):\n",
    "    if i>maxTweets:\n",
    "        break\n",
    "    tweets_list2.append([tweet.date, tweet.id, tweet.content, tweet.user.username])"
   ]
  },
  {
   "cell_type": "code",
   "execution_count": 10,
   "metadata": {},
   "outputs": [
    {
     "data": {
      "text/html": [
       "<div>\n",
       "<style scoped>\n",
       "    .dataframe tbody tr th:only-of-type {\n",
       "        vertical-align: middle;\n",
       "    }\n",
       "\n",
       "    .dataframe tbody tr th {\n",
       "        vertical-align: top;\n",
       "    }\n",
       "\n",
       "    .dataframe thead th {\n",
       "        text-align: right;\n",
       "    }\n",
       "</style>\n",
       "<table border=\"1\" class=\"dataframe\">\n",
       "  <thead>\n",
       "    <tr style=\"text-align: right;\">\n",
       "      <th></th>\n",
       "      <th>Datetime</th>\n",
       "      <th>Tweet Id</th>\n",
       "      <th>Text</th>\n",
       "      <th>Username</th>\n",
       "    </tr>\n",
       "  </thead>\n",
       "  <tbody>\n",
       "    <tr>\n",
       "      <th>0</th>\n",
       "      <td>2017-06-29 23:48:36+00:00</td>\n",
       "      <td>880573749614882817</td>\n",
       "      <td>権利料だけが理由だけなら、アドオン別売りという選択肢が欲しいが、それも適当(常識的)な額では...</td>\n",
       "      <td>momontyo</td>\n",
       "    </tr>\n",
       "    <tr>\n",
       "      <th>1</th>\n",
       "      <td>2017-06-29 23:22:40+00:00</td>\n",
       "      <td>880567219922452484</td>\n",
       "      <td>日本語自体に問題があるのかー\\nなぜ日本製ゲームで”おま語”が起きるのか？―CD PROJE...</td>\n",
       "      <td>LiveSen47</td>\n",
       "    </tr>\n",
       "    <tr>\n",
       "      <th>2</th>\n",
       "      <td>2017-06-29 23:10:12+00:00</td>\n",
       "      <td>880564084294336512</td>\n",
       "      <td>なぜ日本製ゲームで”おま語”が起きるのか？―CD PROJEKT本間氏がTwitterで語る...</td>\n",
       "      <td>ms07h8</td>\n",
       "    </tr>\n",
       "    <tr>\n",
       "      <th>3</th>\n",
       "      <td>2017-06-29 22:32:44+00:00</td>\n",
       "      <td>880554655075287040</td>\n",
       "      <td>CD Projekt (The Witcher), Bloober Team (Layers...</td>\n",
       "      <td>_JoelCastillo</td>\n",
       "    </tr>\n",
       "    <tr>\n",
       "      <th>4</th>\n",
       "      <td>2017-06-29 22:17:52+00:00</td>\n",
       "      <td>880550914460864512</td>\n",
       "      <td>海外のゲームなら別に字幕で日本語出して、音声が日本語でなくたっていいじゃないって、個人的には...</td>\n",
       "      <td>natsukitsuna</td>\n",
       "    </tr>\n",
       "  </tbody>\n",
       "</table>\n",
       "</div>"
      ],
      "text/plain": [
       "                   Datetime            Tweet Id  \\\n",
       "0 2017-06-29 23:48:36+00:00  880573749614882817   \n",
       "1 2017-06-29 23:22:40+00:00  880567219922452484   \n",
       "2 2017-06-29 23:10:12+00:00  880564084294336512   \n",
       "3 2017-06-29 22:32:44+00:00  880554655075287040   \n",
       "4 2017-06-29 22:17:52+00:00  880550914460864512   \n",
       "\n",
       "                                                Text       Username  \n",
       "0  権利料だけが理由だけなら、アドオン別売りという選択肢が欲しいが、それも適当(常識的)な額では...       momontyo  \n",
       "1  日本語自体に問題があるのかー\\nなぜ日本製ゲームで”おま語”が起きるのか？―CD PROJE...      LiveSen47  \n",
       "2  なぜ日本製ゲームで”おま語”が起きるのか？―CD PROJEKT本間氏がTwitterで語る...         ms07h8  \n",
       "3  CD Projekt (The Witcher), Bloober Team (Layers...  _JoelCastillo  \n",
       "4  海外のゲームなら別に字幕で日本語出して、音声が日本語でなくたっていいじゃないって、個人的には...   natsukitsuna  "
      ]
     },
     "execution_count": 10,
     "metadata": {},
     "output_type": "execute_result"
    }
   ],
   "source": [
    "# Creating a dataframe from the tweets list above\n",
    "tweets_df2 = pd.DataFrame(tweets_list2, columns=['Datetime', 'Tweet Id', 'Text', 'Username'])\n",
    "\n",
    "# Display first 5 entries from dataframe\n",
    "tweets_df2.head()"
   ]
  },
  {
   "cell_type": "code",
   "execution_count": 11,
   "metadata": {},
   "outputs": [],
   "source": [
    "#tweets_df2.to_csv('kaarya_sentiment_cdpr1.csv', sep=',', index=False)"
   ]
  },
  {
   "cell_type": "code",
   "execution_count": 13,
   "metadata": {},
   "outputs": [],
   "source": [
    "tweets_df2.to_csv('/Users/sadhanajayakumar/Desktop/Files/sentiment_analysis/cdprprojekt_1.csv',index=False)"
   ]
  },
  {
   "cell_type": "code",
   "execution_count": null,
   "metadata": {},
   "outputs": [],
   "source": []
  }
 ],
 "metadata": {
  "kernelspec": {
   "display_name": "Python 3",
   "language": "python",
   "name": "python3"
  },
  "language_info": {
   "codemirror_mode": {
    "name": "ipython",
    "version": 3
   },
   "file_extension": ".py",
   "mimetype": "text/x-python",
   "name": "python",
   "nbconvert_exporter": "python",
   "pygments_lexer": "ipython3",
   "version": "3.8.5"
  }
 },
 "nbformat": 4,
 "nbformat_minor": 4
}
